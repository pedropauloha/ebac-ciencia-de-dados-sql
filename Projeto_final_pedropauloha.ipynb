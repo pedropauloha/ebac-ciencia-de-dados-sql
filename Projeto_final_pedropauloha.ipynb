{
 "cells": [
  {
   "cell_type": "markdown",
   "id": "8ad6ddd9",
   "metadata": {},
   "source": [
    "<img src=\"https://raw.githubusercontent.com/andre-marcos-perez/ebac-course-utils/main/media/logo/newebac_logo_black_half.png\" alt=\"ebac-logo\">\n",
    "\n",
    "---\n",
    "\n",
    "# **Módulo** | SQL: Projeto\n",
    "\n",
    "Professora: [Mariane Neiva](https://www.linkedin.com/in/mariane-neiva/)<br>\n",
    "Aluno: [Pedro Honorato](https://www.linkedin.com/in/pedro-honorato-6b01771b0/)<br>\n",
    "\n",
    "[Acesse meu github](https://github.com/pedropauloha)\n",
    "\n",
    "---"
   ]
  },
  {
   "cell_type": "markdown",
   "id": "29f29cc6",
   "metadata": {},
   "source": [
    "# **Sumário**\n",
    "\n",
    "[**1. Dicionário de dados**](#1.-Dicionário-de-dados)  \n",
    "[**2. EDA (Exploratory Data Analysis)**](#2.-EDA-(Exploratory-Data-Analysis))<br>\n",
    ">[2.1 Conhecendo o dataset](#2.1-Conhecendo-o-dataset)<br>\n",
    ">[2.2 Segundo etapa da analise - Distribuição](#2.2-Segundo-etapa-da-analise---Distribuição)<br>\n",
    ">[2.3 Terceira etapa da analise - Agregações](#2.3-Terceira-etapa-da-analise---Agregações)<br>\n",
    "\n",
    "[**3. Conclusões do material**](#3.-Conclusões-do-material)"
   ]
  },
  {
   "cell_type": "code",
   "execution_count": 1,
   "id": "d6e0d1d8",
   "metadata": {},
   "outputs": [],
   "source": [
    "# Importando pandas para auxiliar na visualização das bases de dados retornadas de cada query executada.\n",
    "import pandas as pd"
   ]
  },
  {
   "cell_type": "markdown",
   "id": "8c8ef2b1",
   "metadata": {},
   "source": [
    "# 1. Dicionário de dados"
   ]
  },
  {
   "cell_type": "markdown",
   "id": "83e4c42e",
   "metadata": {},
   "source": [
    "O dataset usado neste projeto, para fins didáticos, é um recorte de cerca de 25% do dataset original. O conjunto de dados possui 13 colunas, sendo elas:"
   ]
  },
  {
   "cell_type": "markdown",
   "id": "53dbb40d",
   "metadata": {},
   "source": [
    "| Coluna                   | Descrição                                               | Tipo     |\n",
    "| :----------------------- | :-----------------------------------------------------: | -------: |\n",
    "| **idade**                | Idade do cliente                                        | *int*    | \n",
    "| **sexo**                 | Sexo do cliente (F ou M)                                | *string* |\n",
    "| **dependentes**          | Número de dependentes do cliente                        | *int*    |\n",
    "| **escolaridade**         | Nível de escolaridade do clientes                       | *string* |\n",
    "| **estado_civil**         | Estado civil do cliente                                 | *string* |\n",
    "| **salario_anual**        | Faixa salarial do cliente                               | *string* |\n",
    "| **tipo_cartao**          | Tipo de cartao do cliente                               | *string* |\n",
    "| **qtd_produtos**         | Quantidade de produtos comprados nos últimos 12 meses   | *bigint* |\n",
    "| **iteracoes_12m**        | Quantidade de iterações/transacoes nos ultimos 12 meses | *int*    |\n",
    "| **meses_inativo_12m**    | Quantidade de meses que o cliente ficou inativo         | *int*    |\n",
    "| **limite_credito**       | Limite de credito do cliente                            | *float*  |\n",
    "| **valor_transacoes_12m** | Valor das transações dos ultimos 12 meses               | *float*  |\n",
    "| **qtd_transacoes_12m**   | Quantidade de transacoes dos ultimos 12 meses           | *int*    |"
   ]
  },
  {
   "cell_type": "markdown",
   "id": "3dfc664e",
   "metadata": {},
   "source": [
    "# Informações do projeto"
   ]
  },
  {
   "cell_type": "markdown",
   "id": "41ce1388",
   "metadata": {},
   "source": [
    "O projeto foi criado como uma proposta de atividade final do curso de SQL da EBAC. Todo o processo de EDA foi feito com uso de linguagem SQL e foram criadas em ferramentas do ambiente da AWS, como: o [Athena](https://aws.amazon.com/pt/athena/) e [S3](https://aws.amazon.com/pt/s3/).\n"
   ]
  },
  {
   "cell_type": "markdown",
   "id": "7e9ad90e",
   "metadata": {},
   "source": [
    "# 2. EDA (Exploratory Data Analysis)"
   ]
  },
  {
   "cell_type": "markdown",
   "id": "6c8c8e75",
   "metadata": {},
   "source": [
    "## 2.1 Conhecendo o dataset"
   ]
  },
  {
   "cell_type": "markdown",
   "id": "572fb366",
   "metadata": {},
   "source": [
    "**Query 1** - Preview do Dataset com as 10 primeiras linhas\n",
    "```sql\n",
    "SELECT * FROM \"default\".\"credito\" limit 10;\n",
    "```"
   ]
  },
  {
   "cell_type": "code",
   "execution_count": 2,
   "id": "3b28336f",
   "metadata": {},
   "outputs": [
    {
     "data": {
      "text/html": [
       "<div>\n",
       "<style scoped>\n",
       "    .dataframe tbody tr th:only-of-type {\n",
       "        vertical-align: middle;\n",
       "    }\n",
       "\n",
       "    .dataframe tbody tr th {\n",
       "        vertical-align: top;\n",
       "    }\n",
       "\n",
       "    .dataframe thead th {\n",
       "        text-align: right;\n",
       "    }\n",
       "</style>\n",
       "<table border=\"1\" class=\"dataframe\">\n",
       "  <thead>\n",
       "    <tr style=\"text-align: right;\">\n",
       "      <th></th>\n",
       "      <th>idade</th>\n",
       "      <th>sexo</th>\n",
       "      <th>dependentes</th>\n",
       "      <th>escolaridade</th>\n",
       "      <th>estado_civil</th>\n",
       "      <th>salario_anual</th>\n",
       "      <th>tipo_cartao</th>\n",
       "      <th>qtd_produtos</th>\n",
       "      <th>iteracoes_12m</th>\n",
       "      <th>meses_inativo_12m</th>\n",
       "      <th>limite_credito</th>\n",
       "      <th>valor_transacoes_12m</th>\n",
       "      <th>qtd_transacoes_12m</th>\n",
       "    </tr>\n",
       "  </thead>\n",
       "  <tbody>\n",
       "    <tr>\n",
       "      <th>0</th>\n",
       "      <td>45</td>\n",
       "      <td>M</td>\n",
       "      <td>3</td>\n",
       "      <td>ensino medio</td>\n",
       "      <td>casado</td>\n",
       "      <td>$60K - $80K</td>\n",
       "      <td>blue</td>\n",
       "      <td>5</td>\n",
       "      <td>3</td>\n",
       "      <td>1</td>\n",
       "      <td>12691.51</td>\n",
       "      <td>1144.90</td>\n",
       "      <td>42</td>\n",
       "    </tr>\n",
       "    <tr>\n",
       "      <th>1</th>\n",
       "      <td>49</td>\n",
       "      <td>F</td>\n",
       "      <td>5</td>\n",
       "      <td>mestrado</td>\n",
       "      <td>solteiro</td>\n",
       "      <td>menos que $40K</td>\n",
       "      <td>blue</td>\n",
       "      <td>6</td>\n",
       "      <td>2</td>\n",
       "      <td>1</td>\n",
       "      <td>8256.96</td>\n",
       "      <td>1291.45</td>\n",
       "      <td>33</td>\n",
       "    </tr>\n",
       "    <tr>\n",
       "      <th>2</th>\n",
       "      <td>51</td>\n",
       "      <td>M</td>\n",
       "      <td>3</td>\n",
       "      <td>mestrado</td>\n",
       "      <td>casado</td>\n",
       "      <td>$80K - $120K</td>\n",
       "      <td>blue</td>\n",
       "      <td>4</td>\n",
       "      <td>0</td>\n",
       "      <td>1</td>\n",
       "      <td>3418.56</td>\n",
       "      <td>1887.72</td>\n",
       "      <td>20</td>\n",
       "    </tr>\n",
       "    <tr>\n",
       "      <th>3</th>\n",
       "      <td>40</td>\n",
       "      <td>F</td>\n",
       "      <td>4</td>\n",
       "      <td>ensino medio</td>\n",
       "      <td>na</td>\n",
       "      <td>menos que $40K</td>\n",
       "      <td>blue</td>\n",
       "      <td>3</td>\n",
       "      <td>1</td>\n",
       "      <td>4</td>\n",
       "      <td>3313.03</td>\n",
       "      <td>1171.56</td>\n",
       "      <td>20</td>\n",
       "    </tr>\n",
       "    <tr>\n",
       "      <th>4</th>\n",
       "      <td>40</td>\n",
       "      <td>M</td>\n",
       "      <td>3</td>\n",
       "      <td>sem educacao formal</td>\n",
       "      <td>casado</td>\n",
       "      <td>$60K - $80K</td>\n",
       "      <td>blue</td>\n",
       "      <td>5</td>\n",
       "      <td>0</td>\n",
       "      <td>1</td>\n",
       "      <td>4716.22</td>\n",
       "      <td>816.08</td>\n",
       "      <td>28</td>\n",
       "    </tr>\n",
       "    <tr>\n",
       "      <th>5</th>\n",
       "      <td>44</td>\n",
       "      <td>M</td>\n",
       "      <td>2</td>\n",
       "      <td>mestrado</td>\n",
       "      <td>casado</td>\n",
       "      <td>$40K - $60K</td>\n",
       "      <td>blue</td>\n",
       "      <td>3</td>\n",
       "      <td>2</td>\n",
       "      <td>1</td>\n",
       "      <td>4010.69</td>\n",
       "      <td>1088.07</td>\n",
       "      <td>24</td>\n",
       "    </tr>\n",
       "    <tr>\n",
       "      <th>6</th>\n",
       "      <td>51</td>\n",
       "      <td>M</td>\n",
       "      <td>4</td>\n",
       "      <td>na</td>\n",
       "      <td>casado</td>\n",
       "      <td>$120K +</td>\n",
       "      <td>gold</td>\n",
       "      <td>6</td>\n",
       "      <td>3</td>\n",
       "      <td>1</td>\n",
       "      <td>34516.72</td>\n",
       "      <td>1330.87</td>\n",
       "      <td>31</td>\n",
       "    </tr>\n",
       "    <tr>\n",
       "      <th>7</th>\n",
       "      <td>32</td>\n",
       "      <td>M</td>\n",
       "      <td>0</td>\n",
       "      <td>ensino medio</td>\n",
       "      <td>na</td>\n",
       "      <td>$60K - $80K</td>\n",
       "      <td>silver</td>\n",
       "      <td>2</td>\n",
       "      <td>2</td>\n",
       "      <td>2</td>\n",
       "      <td>29081.49</td>\n",
       "      <td>1538.32</td>\n",
       "      <td>36</td>\n",
       "    </tr>\n",
       "    <tr>\n",
       "      <th>8</th>\n",
       "      <td>37</td>\n",
       "      <td>M</td>\n",
       "      <td>3</td>\n",
       "      <td>sem educacao formal</td>\n",
       "      <td>solteiro</td>\n",
       "      <td>$60K - $80K</td>\n",
       "      <td>blue</td>\n",
       "      <td>5</td>\n",
       "      <td>0</td>\n",
       "      <td>2</td>\n",
       "      <td>22352.50</td>\n",
       "      <td>1350.14</td>\n",
       "      <td>24</td>\n",
       "    </tr>\n",
       "    <tr>\n",
       "      <th>9</th>\n",
       "      <td>48</td>\n",
       "      <td>M</td>\n",
       "      <td>2</td>\n",
       "      <td>mestrado</td>\n",
       "      <td>solteiro</td>\n",
       "      <td>$80K - $120K</td>\n",
       "      <td>blue</td>\n",
       "      <td>6</td>\n",
       "      <td>3</td>\n",
       "      <td>3</td>\n",
       "      <td>11656.41</td>\n",
       "      <td>1441.73</td>\n",
       "      <td>32</td>\n",
       "    </tr>\n",
       "  </tbody>\n",
       "</table>\n",
       "</div>"
      ],
      "text/plain": [
       "   idade sexo  dependentes         escolaridade estado_civil   salario_anual  \\\n",
       "0     45    M            3         ensino medio       casado     $60K - $80K   \n",
       "1     49    F            5             mestrado     solteiro  menos que $40K   \n",
       "2     51    M            3             mestrado       casado    $80K - $120K   \n",
       "3     40    F            4         ensino medio           na  menos que $40K   \n",
       "4     40    M            3  sem educacao formal       casado     $60K - $80K   \n",
       "5     44    M            2             mestrado       casado     $40K - $60K   \n",
       "6     51    M            4                   na       casado         $120K +   \n",
       "7     32    M            0         ensino medio           na     $60K - $80K   \n",
       "8     37    M            3  sem educacao formal     solteiro     $60K - $80K   \n",
       "9     48    M            2             mestrado     solteiro    $80K - $120K   \n",
       "\n",
       "  tipo_cartao  qtd_produtos  iteracoes_12m  meses_inativo_12m  limite_credito  \\\n",
       "0        blue             5              3                  1        12691.51   \n",
       "1        blue             6              2                  1         8256.96   \n",
       "2        blue             4              0                  1         3418.56   \n",
       "3        blue             3              1                  4         3313.03   \n",
       "4        blue             5              0                  1         4716.22   \n",
       "5        blue             3              2                  1         4010.69   \n",
       "6        gold             6              3                  1        34516.72   \n",
       "7      silver             2              2                  2        29081.49   \n",
       "8        blue             5              0                  2        22352.50   \n",
       "9        blue             6              3                  3        11656.41   \n",
       "\n",
       "   valor_transacoes_12m  qtd_transacoes_12m  \n",
       "0               1144.90                  42  \n",
       "1               1291.45                  33  \n",
       "2               1887.72                  20  \n",
       "3               1171.56                  20  \n",
       "4                816.08                  28  \n",
       "5               1088.07                  24  \n",
       "6               1330.87                  31  \n",
       "7               1538.32                  36  \n",
       "8               1350.14                  24  \n",
       "9               1441.73                  32  "
      ]
     },
     "execution_count": 2,
     "metadata": {},
     "output_type": "execute_result"
    }
   ],
   "source": [
    "dataset_preview = pd.read_csv(\"./queries/preview-dataset.csv\",sep=',')\n",
    "dataset_preview.head(10)"
   ]
  },
  {
   "cell_type": "markdown",
   "id": "7627ab57",
   "metadata": {},
   "source": [
    "**Query 2** - Tabela descritiva com todas as colunas do dataset\n",
    "```sql\n",
    "describe credito;\n",
    "```"
   ]
  },
  {
   "cell_type": "markdown",
   "id": "96df4bbb",
   "metadata": {},
   "source": [
    "![describe](https://raw.githubusercontent.com/pedropauloha/ebac-ciencia-de-dados-sql/main/describe_db.png)"
   ]
  },
  {
   "cell_type": "markdown",
   "id": "a325c09d",
   "metadata": {},
   "source": [
    "**Query 3** - Total de linhas do conjunto de dados\n",
    "```sql\n",
    "SELECT count(*) from credito;\n",
    "```"
   ]
  },
  {
   "cell_type": "code",
   "execution_count": 3,
   "id": "04ec0d32",
   "metadata": {},
   "outputs": [
    {
     "data": {
      "text/html": [
       "<div>\n",
       "<style scoped>\n",
       "    .dataframe tbody tr th:only-of-type {\n",
       "        vertical-align: middle;\n",
       "    }\n",
       "\n",
       "    .dataframe tbody tr th {\n",
       "        vertical-align: top;\n",
       "    }\n",
       "\n",
       "    .dataframe thead th {\n",
       "        text-align: right;\n",
       "    }\n",
       "</style>\n",
       "<table border=\"1\" class=\"dataframe\">\n",
       "  <thead>\n",
       "    <tr style=\"text-align: right;\">\n",
       "      <th></th>\n",
       "      <th>total_de_linhas</th>\n",
       "    </tr>\n",
       "  </thead>\n",
       "  <tbody>\n",
       "    <tr>\n",
       "      <th>0</th>\n",
       "      <td>2564</td>\n",
       "    </tr>\n",
       "  </tbody>\n",
       "</table>\n",
       "</div>"
      ],
      "text/plain": [
       "   total_de_linhas\n",
       "0             2564"
      ]
     },
     "execution_count": 3,
     "metadata": {},
     "output_type": "execute_result"
    }
   ],
   "source": [
    "count_rows = pd.read_csv(\"./queries/count_rows.csv\",sep=',')\n",
    "count_rows.head()"
   ]
  },
  {
   "cell_type": "markdown",
   "id": "81c2d471",
   "metadata": {},
   "source": [
    "**Query 4** - Valores possíveis na coluna Escolaridade\n",
    "```sql\n",
    "SELECT distinct escolaridade FROM credito;\n",
    "```"
   ]
  },
  {
   "cell_type": "code",
   "execution_count": 4,
   "id": "6f3f777d",
   "metadata": {},
   "outputs": [
    {
     "data": {
      "text/html": [
       "<div>\n",
       "<style scoped>\n",
       "    .dataframe tbody tr th:only-of-type {\n",
       "        vertical-align: middle;\n",
       "    }\n",
       "\n",
       "    .dataframe tbody tr th {\n",
       "        vertical-align: top;\n",
       "    }\n",
       "\n",
       "    .dataframe thead th {\n",
       "        text-align: right;\n",
       "    }\n",
       "</style>\n",
       "<table border=\"1\" class=\"dataframe\">\n",
       "  <thead>\n",
       "    <tr style=\"text-align: right;\">\n",
       "      <th></th>\n",
       "      <th>escolaridade</th>\n",
       "    </tr>\n",
       "  </thead>\n",
       "  <tbody>\n",
       "    <tr>\n",
       "      <th>0</th>\n",
       "      <td>ensino medio</td>\n",
       "    </tr>\n",
       "    <tr>\n",
       "      <th>1</th>\n",
       "      <td>mestrado</td>\n",
       "    </tr>\n",
       "    <tr>\n",
       "      <th>2</th>\n",
       "      <td>graduacao</td>\n",
       "    </tr>\n",
       "    <tr>\n",
       "      <th>3</th>\n",
       "      <td>doutorado</td>\n",
       "    </tr>\n",
       "    <tr>\n",
       "      <th>4</th>\n",
       "      <td>na</td>\n",
       "    </tr>\n",
       "  </tbody>\n",
       "</table>\n",
       "</div>"
      ],
      "text/plain": [
       "   escolaridade\n",
       "0  ensino medio\n",
       "1      mestrado\n",
       "2     graduacao\n",
       "3     doutorado\n",
       "4            na"
      ]
     },
     "execution_count": 4,
     "metadata": {},
     "output_type": "execute_result"
    }
   ],
   "source": [
    "distinct_escolaridade = pd.read_csv(\"./queries/distinct_escolaridade.csv\",sep=',')\n",
    "distinct_escolaridade.head()"
   ]
  },
  {
   "cell_type": "markdown",
   "id": "570933ec",
   "metadata": {},
   "source": [
    "**Query 5** - Valores possíveis na coluna Estado Civil\n",
    "```sql\n",
    "SELECT distinct estado_civil FROM credito;\n",
    "```"
   ]
  },
  {
   "cell_type": "code",
   "execution_count": 5,
   "id": "5f311254",
   "metadata": {},
   "outputs": [
    {
     "data": {
      "text/html": [
       "<div>\n",
       "<style scoped>\n",
       "    .dataframe tbody tr th:only-of-type {\n",
       "        vertical-align: middle;\n",
       "    }\n",
       "\n",
       "    .dataframe tbody tr th {\n",
       "        vertical-align: top;\n",
       "    }\n",
       "\n",
       "    .dataframe thead th {\n",
       "        text-align: right;\n",
       "    }\n",
       "</style>\n",
       "<table border=\"1\" class=\"dataframe\">\n",
       "  <thead>\n",
       "    <tr style=\"text-align: right;\">\n",
       "      <th></th>\n",
       "      <th>estado_civil</th>\n",
       "    </tr>\n",
       "  </thead>\n",
       "  <tbody>\n",
       "    <tr>\n",
       "      <th>0</th>\n",
       "      <td>divorciado</td>\n",
       "    </tr>\n",
       "    <tr>\n",
       "      <th>1</th>\n",
       "      <td>solteiro</td>\n",
       "    </tr>\n",
       "    <tr>\n",
       "      <th>2</th>\n",
       "      <td>casado</td>\n",
       "    </tr>\n",
       "    <tr>\n",
       "      <th>3</th>\n",
       "      <td>na</td>\n",
       "    </tr>\n",
       "  </tbody>\n",
       "</table>\n",
       "</div>"
      ],
      "text/plain": [
       "  estado_civil\n",
       "0   divorciado\n",
       "1     solteiro\n",
       "2       casado\n",
       "3           na"
      ]
     },
     "execution_count": 5,
     "metadata": {},
     "output_type": "execute_result"
    }
   ],
   "source": [
    "distinct_estado_civil = pd.read_csv(\"./queries/distinct_estado_civil.csv\",sep=',')\n",
    "distinct_estado_civil.head()"
   ]
  },
  {
   "cell_type": "markdown",
   "id": "e077835b",
   "metadata": {},
   "source": [
    "**Informações básicas sobre o dataset**\n",
    "<ol>\n",
    "    <li>Total de 13 colunas</li>\n",
    "    <li>2564 linhas</li>\n",
    "    <li>Apresenta valores nulos</li>\n",
    "    <li>Salario_anual é uma coluna categórica (string)</li>\n",
    "    <li>Rastreio de informações dos últimos 12 meses</li>\n",
    "</ol>\n"
   ]
  },
  {
   "cell_type": "markdown",
   "id": "e4c59898",
   "metadata": {},
   "source": [
    "## 2.2 Segundo etapa da analise - Distribuição"
   ]
  },
  {
   "cell_type": "markdown",
   "id": "0cd6d836",
   "metadata": {},
   "source": [
    "### 2.2.1 Distribuição de clientes por gênero"
   ]
  },
  {
   "cell_type": "markdown",
   "id": "71c541b9",
   "metadata": {},
   "source": [
    "**Query 6** - Distribuição de clientes por gênero\n",
    "```sql\n",
    "SELECT count(*) as contagem_genero,\n",
    "    sexo\n",
    "from credito\n",
    "group by sexo\n",
    "order by contagem_genero desc;\n",
    "```"
   ]
  },
  {
   "cell_type": "code",
   "execution_count": 6,
   "id": "82683992",
   "metadata": {},
   "outputs": [
    {
     "data": {
      "text/html": [
       "<div>\n",
       "<style scoped>\n",
       "    .dataframe tbody tr th:only-of-type {\n",
       "        vertical-align: middle;\n",
       "    }\n",
       "\n",
       "    .dataframe tbody tr th {\n",
       "        vertical-align: top;\n",
       "    }\n",
       "\n",
       "    .dataframe thead th {\n",
       "        text-align: right;\n",
       "    }\n",
       "</style>\n",
       "<table border=\"1\" class=\"dataframe\">\n",
       "  <thead>\n",
       "    <tr style=\"text-align: right;\">\n",
       "      <th></th>\n",
       "      <th>contagem_genero</th>\n",
       "      <th>sexo</th>\n",
       "    </tr>\n",
       "  </thead>\n",
       "  <tbody>\n",
       "    <tr>\n",
       "      <th>0</th>\n",
       "      <td>1563</td>\n",
       "      <td>M</td>\n",
       "    </tr>\n",
       "    <tr>\n",
       "      <th>1</th>\n",
       "      <td>1001</td>\n",
       "      <td>F</td>\n",
       "    </tr>\n",
       "  </tbody>\n",
       "</table>\n",
       "</div>"
      ],
      "text/plain": [
       "   contagem_genero sexo\n",
       "0             1563    M\n",
       "1             1001    F"
      ]
     },
     "execution_count": 6,
     "metadata": {},
     "output_type": "execute_result"
    }
   ],
   "source": [
    "dist_sexo = pd.read_csv(\"./queries/dist_sexo.csv\",sep=',')\n",
    "dist_sexo.head()"
   ]
  },
  {
   "cell_type": "markdown",
   "id": "28e8f9f5",
   "metadata": {},
   "source": [
    "### 2.2.2 Distribuição de clientes por categoria de salário"
   ]
  },
  {
   "cell_type": "markdown",
   "id": "bea2c4b9",
   "metadata": {},
   "source": [
    "**Query 7** - Distribuição de clientes na base de dados pela categoria salarial\n",
    "```sql\n",
    "SELECT count(*) as contagem_de_clientes,\n",
    "\tsalario_anual\n",
    "from credito\n",
    "group by salario_anual\n",
    "order by CASE\n",
    "    salario_anual\n",
    "    WHEN 'menos que $40K' THEN 1\n",
    "    WHEN '$40K - $60K' THEN 2\n",
    "    WHEN '$60K - $80K' THEN 3\n",
    "    WHEN '$80K - $120K' THEN 4\n",
    "    WHEN '$120K +' THEN 5 ELSE 6\n",
    "END;\n",
    "```"
   ]
  },
  {
   "cell_type": "code",
   "execution_count": 7,
   "id": "3f73a653",
   "metadata": {},
   "outputs": [
    {
     "data": {
      "text/html": [
       "<div>\n",
       "<style scoped>\n",
       "    .dataframe tbody tr th:only-of-type {\n",
       "        vertical-align: middle;\n",
       "    }\n",
       "\n",
       "    .dataframe tbody tr th {\n",
       "        vertical-align: top;\n",
       "    }\n",
       "\n",
       "    .dataframe thead th {\n",
       "        text-align: right;\n",
       "    }\n",
       "</style>\n",
       "<table border=\"1\" class=\"dataframe\">\n",
       "  <thead>\n",
       "    <tr style=\"text-align: right;\">\n",
       "      <th></th>\n",
       "      <th>contagem_de_clientes</th>\n",
       "      <th>salario_anual</th>\n",
       "    </tr>\n",
       "  </thead>\n",
       "  <tbody>\n",
       "    <tr>\n",
       "      <th>0</th>\n",
       "      <td>701</td>\n",
       "      <td>menos que $40K</td>\n",
       "    </tr>\n",
       "    <tr>\n",
       "      <th>1</th>\n",
       "      <td>467</td>\n",
       "      <td>$40K - $60K</td>\n",
       "    </tr>\n",
       "    <tr>\n",
       "      <th>2</th>\n",
       "      <td>451</td>\n",
       "      <td>$60K - $80K</td>\n",
       "    </tr>\n",
       "    <tr>\n",
       "      <th>3</th>\n",
       "      <td>488</td>\n",
       "      <td>$80K - $120K</td>\n",
       "    </tr>\n",
       "    <tr>\n",
       "      <th>4</th>\n",
       "      <td>222</td>\n",
       "      <td>$120K +</td>\n",
       "    </tr>\n",
       "  </tbody>\n",
       "</table>\n",
       "</div>"
      ],
      "text/plain": [
       "   contagem_de_clientes   salario_anual\n",
       "0                   701  menos que $40K\n",
       "1                   467     $40K - $60K\n",
       "2                   451     $60K - $80K\n",
       "3                   488    $80K - $120K\n",
       "4                   222         $120K +"
      ]
     },
     "execution_count": 7,
     "metadata": {},
     "output_type": "execute_result"
    }
   ],
   "source": [
    "count_clientes_salario = pd.read_csv(\"./queries/count_clientes_salario.csv\",sep=',')\n",
    "count_clientes_salario.head()"
   ]
  },
  {
   "cell_type": "markdown",
   "id": "fc804e75",
   "metadata": {},
   "source": [
    "### 2.2.3 Distribuição de clientes por tipo de cartão"
   ]
  },
  {
   "cell_type": "markdown",
   "id": "0d889aea",
   "metadata": {},
   "source": [
    "**Query 8** - Distribuição de clientes na base de dados pelo tipo de cartão\n",
    "```sql\n",
    "select count(*) as contagem_de_clientes,\n",
    "\ttipo_cartao\n",
    "from credito\n",
    "group by tipo_cartao\n",
    "order by contagem_de_clientes desc;\n",
    "```"
   ]
  },
  {
   "cell_type": "code",
   "execution_count": 8,
   "id": "2c7fcf73",
   "metadata": {},
   "outputs": [
    {
     "data": {
      "text/html": [
       "<div>\n",
       "<style scoped>\n",
       "    .dataframe tbody tr th:only-of-type {\n",
       "        vertical-align: middle;\n",
       "    }\n",
       "\n",
       "    .dataframe tbody tr th {\n",
       "        vertical-align: top;\n",
       "    }\n",
       "\n",
       "    .dataframe thead th {\n",
       "        text-align: right;\n",
       "    }\n",
       "</style>\n",
       "<table border=\"1\" class=\"dataframe\">\n",
       "  <thead>\n",
       "    <tr style=\"text-align: right;\">\n",
       "      <th></th>\n",
       "      <th>contagem_de_clientes</th>\n",
       "      <th>tipo_cartao</th>\n",
       "      <th>pct</th>\n",
       "    </tr>\n",
       "  </thead>\n",
       "  <tbody>\n",
       "    <tr>\n",
       "      <th>0</th>\n",
       "      <td>2453</td>\n",
       "      <td>blue</td>\n",
       "      <td>95.670827</td>\n",
       "    </tr>\n",
       "    <tr>\n",
       "      <th>1</th>\n",
       "      <td>93</td>\n",
       "      <td>silver</td>\n",
       "      <td>3.627145</td>\n",
       "    </tr>\n",
       "    <tr>\n",
       "      <th>2</th>\n",
       "      <td>16</td>\n",
       "      <td>gold</td>\n",
       "      <td>0.624025</td>\n",
       "    </tr>\n",
       "    <tr>\n",
       "      <th>3</th>\n",
       "      <td>2</td>\n",
       "      <td>platinum</td>\n",
       "      <td>0.078003</td>\n",
       "    </tr>\n",
       "  </tbody>\n",
       "</table>\n",
       "</div>"
      ],
      "text/plain": [
       "   contagem_de_clientes tipo_cartao        pct\n",
       "0                  2453        blue  95.670827\n",
       "1                    93      silver   3.627145\n",
       "2                    16        gold   0.624025\n",
       "3                     2    platinum   0.078003"
      ]
     },
     "execution_count": 8,
     "metadata": {},
     "output_type": "execute_result"
    }
   ],
   "source": [
    "count_tipo_cartao = pd.read_csv(\"./queries/count_tipo_cartao.csv\",sep=',')\n",
    "count_tipo_cartao['pct'] = ((count_tipo_cartao['contagem_de_clientes'] / count_tipo_cartao['contagem_de_clientes'].sum()) *100)\n",
    "count_tipo_cartao.head()"
   ]
  },
  {
   "cell_type": "markdown",
   "id": "0df4234a",
   "metadata": {},
   "source": [
    "**Por que compreender a distribuição do dados do dataset?**\n",
    "\n",
    "Compreender a distribuição da base de dados proporciona insights sobre os grupos de maior interesse para a empresa, seja para criar uma nova campanha específica para um público-alvo ou proporcionar um atendimento personalizado."
   ]
  },
  {
   "cell_type": "markdown",
   "id": "e4511e0d",
   "metadata": {},
   "source": [
    "## 2.3 Terceira etapa da analise - Agregações"
   ]
  },
  {
   "cell_type": "markdown",
   "id": "10a5ee71",
   "metadata": {},
   "source": [
    "### 2.3.1 Agregações por idade"
   ]
  },
  {
   "cell_type": "markdown",
   "id": "d05b7833",
   "metadata": {},
   "source": [
    "**Query 9** - Min/Max/Avg por idade - Análise da faixa etária dos clientes\n",
    "```sql\n",
    "select min(idade) as idade_minima,\n",
    "\tmax(idade) as idade_maxima,\n",
    "\tround(avg(idade), 0) as idade_media\n",
    "from credito;\n",
    "```"
   ]
  },
  {
   "cell_type": "code",
   "execution_count": 9,
   "id": "26df875b",
   "metadata": {},
   "outputs": [
    {
     "data": {
      "text/html": [
       "<div>\n",
       "<style scoped>\n",
       "    .dataframe tbody tr th:only-of-type {\n",
       "        vertical-align: middle;\n",
       "    }\n",
       "\n",
       "    .dataframe tbody tr th {\n",
       "        vertical-align: top;\n",
       "    }\n",
       "\n",
       "    .dataframe thead th {\n",
       "        text-align: right;\n",
       "    }\n",
       "</style>\n",
       "<table border=\"1\" class=\"dataframe\">\n",
       "  <thead>\n",
       "    <tr style=\"text-align: right;\">\n",
       "      <th></th>\n",
       "      <th>idade_minima</th>\n",
       "      <th>idade_maxima</th>\n",
       "      <th>idade_media</th>\n",
       "    </tr>\n",
       "  </thead>\n",
       "  <tbody>\n",
       "    <tr>\n",
       "      <th>0</th>\n",
       "      <td>26</td>\n",
       "      <td>73</td>\n",
       "      <td>46.0</td>\n",
       "    </tr>\n",
       "  </tbody>\n",
       "</table>\n",
       "</div>"
      ],
      "text/plain": [
       "   idade_minima  idade_maxima  idade_media\n",
       "0            26            73         46.0"
      ]
     },
     "execution_count": 9,
     "metadata": {},
     "output_type": "execute_result"
    }
   ],
   "source": [
    "min_max_avg_idade = pd.read_csv(\"./queries/min_max_avg_idade.csv\",sep=',')\n",
    "min_max_avg_idade.head()"
   ]
  },
  {
   "cell_type": "markdown",
   "id": "99748ec5",
   "metadata": {},
   "source": [
    "### 2.3.2 Agregações por transações"
   ]
  },
  {
   "cell_type": "markdown",
   "id": "2b686826",
   "metadata": {},
   "source": [
    "**Query 10** - Min/Max/Avg por transações - Análise do consumo dos clientes\n",
    "```sql\n",
    "select min(valor_transacoes_12m) as min_transacoes,\n",
    "\tmax(valor_transacoes_12m) as max_transacoes,\n",
    "\tround(avg(valor_transacoes_12m), 0) as avg_transacoes\n",
    "from credito;\n",
    "```"
   ]
  },
  {
   "cell_type": "code",
   "execution_count": 10,
   "id": "ce91f91b",
   "metadata": {},
   "outputs": [
    {
     "data": {
      "text/html": [
       "<div>\n",
       "<style scoped>\n",
       "    .dataframe tbody tr th:only-of-type {\n",
       "        vertical-align: middle;\n",
       "    }\n",
       "\n",
       "    .dataframe tbody tr th {\n",
       "        vertical-align: top;\n",
       "    }\n",
       "\n",
       "    .dataframe thead th {\n",
       "        text-align: right;\n",
       "    }\n",
       "</style>\n",
       "<table border=\"1\" class=\"dataframe\">\n",
       "  <thead>\n",
       "    <tr style=\"text-align: right;\">\n",
       "      <th></th>\n",
       "      <th>min_transacoes</th>\n",
       "      <th>max_transacoes</th>\n",
       "      <th>avg_transacoes</th>\n",
       "    </tr>\n",
       "  </thead>\n",
       "  <tbody>\n",
       "    <tr>\n",
       "      <th>0</th>\n",
       "      <td>510.16</td>\n",
       "      <td>4776.58</td>\n",
       "      <td>1820.0</td>\n",
       "    </tr>\n",
       "  </tbody>\n",
       "</table>\n",
       "</div>"
      ],
      "text/plain": [
       "   min_transacoes  max_transacoes  avg_transacoes\n",
       "0          510.16         4776.58          1820.0"
      ]
     },
     "execution_count": 10,
     "metadata": {},
     "output_type": "execute_result"
    }
   ],
   "source": [
    "min_max_avg_transacoes = pd.read_csv(\"./queries/min_max_avg_transacoes.csv\",sep=',')\n",
    "min_max_avg_transacoes.head()"
   ]
  },
  {
   "cell_type": "markdown",
   "id": "ad7b7d7d",
   "metadata": {},
   "source": [
    "### 2.3.3 Top 10 clientes que possuem os maiores creditos e suas características por escolaridade, tipo do cartão e gênero"
   ]
  },
  {
   "cell_type": "markdown",
   "id": "d008dba9",
   "metadata": {},
   "source": [
    "**Query 11** - Top 10 clientes que possuem os maiores creditos e suas características\n",
    "```sql\n",
    "select max(limite_credito) as limite_credito,\n",
    "\tescolaridade,\n",
    "\ttipo_cartao,\n",
    "\tsexo\n",
    "from credito\n",
    "where escolaridade != 'na'\n",
    "\tand tipo_cartao != 'na'\n",
    "group by escolaridade,\n",
    "\ttipo_cartao,\n",
    "\tsexo\n",
    "order by limite_credito desc\n",
    "limit 10;\n",
    "```"
   ]
  },
  {
   "cell_type": "code",
   "execution_count": 11,
   "id": "a7ed57ca",
   "metadata": {},
   "outputs": [
    {
     "data": {
      "text/html": [
       "<div>\n",
       "<style scoped>\n",
       "    .dataframe tbody tr th:only-of-type {\n",
       "        vertical-align: middle;\n",
       "    }\n",
       "\n",
       "    .dataframe tbody tr th {\n",
       "        vertical-align: top;\n",
       "    }\n",
       "\n",
       "    .dataframe thead th {\n",
       "        text-align: right;\n",
       "    }\n",
       "</style>\n",
       "<table border=\"1\" class=\"dataframe\">\n",
       "  <thead>\n",
       "    <tr style=\"text-align: right;\">\n",
       "      <th></th>\n",
       "      <th>limite_credito</th>\n",
       "      <th>escolaridade</th>\n",
       "      <th>tipo_cartao</th>\n",
       "      <th>sexo</th>\n",
       "    </tr>\n",
       "  </thead>\n",
       "  <tbody>\n",
       "    <tr>\n",
       "      <th>0</th>\n",
       "      <td>34516.99</td>\n",
       "      <td>sem educacao formal</td>\n",
       "      <td>blue</td>\n",
       "      <td>M</td>\n",
       "    </tr>\n",
       "    <tr>\n",
       "      <th>1</th>\n",
       "      <td>34516.98</td>\n",
       "      <td>mestrado</td>\n",
       "      <td>gold</td>\n",
       "      <td>M</td>\n",
       "    </tr>\n",
       "    <tr>\n",
       "      <th>2</th>\n",
       "      <td>34516.97</td>\n",
       "      <td>mestrado</td>\n",
       "      <td>blue</td>\n",
       "      <td>M</td>\n",
       "    </tr>\n",
       "    <tr>\n",
       "      <th>3</th>\n",
       "      <td>34516.96</td>\n",
       "      <td>sem educacao formal</td>\n",
       "      <td>silver</td>\n",
       "      <td>M</td>\n",
       "    </tr>\n",
       "    <tr>\n",
       "      <th>4</th>\n",
       "      <td>34516.96</td>\n",
       "      <td>doutorado</td>\n",
       "      <td>platinum</td>\n",
       "      <td>F</td>\n",
       "    </tr>\n",
       "    <tr>\n",
       "      <th>5</th>\n",
       "      <td>34516.95</td>\n",
       "      <td>ensino medio</td>\n",
       "      <td>gold</td>\n",
       "      <td>M</td>\n",
       "    </tr>\n",
       "    <tr>\n",
       "      <th>6</th>\n",
       "      <td>34516.94</td>\n",
       "      <td>graduacao</td>\n",
       "      <td>gold</td>\n",
       "      <td>M</td>\n",
       "    </tr>\n",
       "    <tr>\n",
       "      <th>7</th>\n",
       "      <td>34516.94</td>\n",
       "      <td>graduacao</td>\n",
       "      <td>gold</td>\n",
       "      <td>F</td>\n",
       "    </tr>\n",
       "    <tr>\n",
       "      <th>8</th>\n",
       "      <td>34516.89</td>\n",
       "      <td>graduacao</td>\n",
       "      <td>silver</td>\n",
       "      <td>M</td>\n",
       "    </tr>\n",
       "    <tr>\n",
       "      <th>9</th>\n",
       "      <td>34516.74</td>\n",
       "      <td>ensino medio</td>\n",
       "      <td>blue</td>\n",
       "      <td>M</td>\n",
       "    </tr>\n",
       "  </tbody>\n",
       "</table>\n",
       "</div>"
      ],
      "text/plain": [
       "   limite_credito         escolaridade tipo_cartao sexo\n",
       "0        34516.99  sem educacao formal        blue    M\n",
       "1        34516.98             mestrado        gold    M\n",
       "2        34516.97             mestrado        blue    M\n",
       "3        34516.96  sem educacao formal      silver    M\n",
       "4        34516.96            doutorado    platinum    F\n",
       "5        34516.95         ensino medio        gold    M\n",
       "6        34516.94            graduacao        gold    M\n",
       "7        34516.94            graduacao        gold    F\n",
       "8        34516.89            graduacao      silver    M\n",
       "9        34516.74         ensino medio        blue    M"
      ]
     },
     "execution_count": 11,
     "metadata": {},
     "output_type": "execute_result"
    }
   ],
   "source": [
    "limite_max_esc_cart_sexo = pd.read_csv(\"./queries/limite_max_esc_cart_sexo.csv\",sep=',')\n",
    "limite_max_esc_cart_sexo.head(10)"
   ]
  },
  {
   "cell_type": "markdown",
   "id": "c7c9c12c",
   "metadata": {},
   "source": [
    "### 2.3.4 Características dos clientes com as 10 maiores médias de valores gastos nos últimos 12 meses"
   ]
  },
  {
   "cell_type": "markdown",
   "id": "2b618270",
   "metadata": {},
   "source": [
    "**Query 12** - Características dos clientes com as 10 maiores médias de valores gastos nos últimos 12 meses\n",
    "```sql\n",
    "select avg(valor_transacoes_12m) as total_transacoes,\n",
    "\tescolaridade,\n",
    "\tsexo,\n",
    "\testado_civil,\n",
    "\ttipo_cartao\n",
    "from credito\n",
    "where escolaridade != 'na'\n",
    "\tand estado_civil != 'na'\n",
    "\tand tipo_cartao != 'na'\n",
    "group by escolaridade,\n",
    "\tsexo,\n",
    "\testado_civil,\n",
    "\ttipo_cartao\n",
    "order by total_transacoes desc\n",
    "limit 10;\n",
    "```"
   ]
  },
  {
   "cell_type": "code",
   "execution_count": 12,
   "id": "c5447830",
   "metadata": {},
   "outputs": [
    {
     "data": {
      "text/html": [
       "<div>\n",
       "<style scoped>\n",
       "    .dataframe tbody tr th:only-of-type {\n",
       "        vertical-align: middle;\n",
       "    }\n",
       "\n",
       "    .dataframe tbody tr th {\n",
       "        vertical-align: top;\n",
       "    }\n",
       "\n",
       "    .dataframe thead th {\n",
       "        text-align: right;\n",
       "    }\n",
       "</style>\n",
       "<table border=\"1\" class=\"dataframe\">\n",
       "  <thead>\n",
       "    <tr style=\"text-align: right;\">\n",
       "      <th></th>\n",
       "      <th>total_transacoes</th>\n",
       "      <th>escolaridade</th>\n",
       "      <th>sexo</th>\n",
       "      <th>estado_civil</th>\n",
       "      <th>tipo_cartao</th>\n",
       "    </tr>\n",
       "  </thead>\n",
       "  <tbody>\n",
       "    <tr>\n",
       "      <th>0</th>\n",
       "      <td>4149.1800</td>\n",
       "      <td>doutorado</td>\n",
       "      <td>M</td>\n",
       "      <td>casado</td>\n",
       "      <td>gold</td>\n",
       "    </tr>\n",
       "    <tr>\n",
       "      <th>1</th>\n",
       "      <td>3899.2700</td>\n",
       "      <td>mestrado</td>\n",
       "      <td>M</td>\n",
       "      <td>solteiro</td>\n",
       "      <td>gold</td>\n",
       "    </tr>\n",
       "    <tr>\n",
       "      <th>2</th>\n",
       "      <td>3360.6000</td>\n",
       "      <td>mestrado</td>\n",
       "      <td>F</td>\n",
       "      <td>divorciado</td>\n",
       "      <td>silver</td>\n",
       "    </tr>\n",
       "    <tr>\n",
       "      <th>3</th>\n",
       "      <td>3205.1200</td>\n",
       "      <td>mestrado</td>\n",
       "      <td>M</td>\n",
       "      <td>casado</td>\n",
       "      <td>gold</td>\n",
       "    </tr>\n",
       "    <tr>\n",
       "      <th>4</th>\n",
       "      <td>2897.4534</td>\n",
       "      <td>mestrado</td>\n",
       "      <td>F</td>\n",
       "      <td>casado</td>\n",
       "      <td>silver</td>\n",
       "    </tr>\n",
       "    <tr>\n",
       "      <th>5</th>\n",
       "      <td>2574.8000</td>\n",
       "      <td>graduacao</td>\n",
       "      <td>F</td>\n",
       "      <td>solteiro</td>\n",
       "      <td>gold</td>\n",
       "    </tr>\n",
       "    <tr>\n",
       "      <th>6</th>\n",
       "      <td>2535.8076</td>\n",
       "      <td>doutorado</td>\n",
       "      <td>F</td>\n",
       "      <td>divorciado</td>\n",
       "      <td>blue</td>\n",
       "    </tr>\n",
       "    <tr>\n",
       "      <th>7</th>\n",
       "      <td>2500.9550</td>\n",
       "      <td>mestrado</td>\n",
       "      <td>F</td>\n",
       "      <td>solteiro</td>\n",
       "      <td>silver</td>\n",
       "    </tr>\n",
       "    <tr>\n",
       "      <th>8</th>\n",
       "      <td>2407.4475</td>\n",
       "      <td>sem educacao formal</td>\n",
       "      <td>F</td>\n",
       "      <td>solteiro</td>\n",
       "      <td>silver</td>\n",
       "    </tr>\n",
       "    <tr>\n",
       "      <th>9</th>\n",
       "      <td>2327.1100</td>\n",
       "      <td>mestrado</td>\n",
       "      <td>F</td>\n",
       "      <td>solteiro</td>\n",
       "      <td>gold</td>\n",
       "    </tr>\n",
       "  </tbody>\n",
       "</table>\n",
       "</div>"
      ],
      "text/plain": [
       "   total_transacoes         escolaridade sexo estado_civil tipo_cartao\n",
       "0         4149.1800            doutorado    M       casado        gold\n",
       "1         3899.2700             mestrado    M     solteiro        gold\n",
       "2         3360.6000             mestrado    F   divorciado      silver\n",
       "3         3205.1200             mestrado    M       casado        gold\n",
       "4         2897.4534             mestrado    F       casado      silver\n",
       "5         2574.8000            graduacao    F     solteiro        gold\n",
       "6         2535.8076            doutorado    F   divorciado        blue\n",
       "7         2500.9550             mestrado    F     solteiro      silver\n",
       "8         2407.4475  sem educacao formal    F     solteiro      silver\n",
       "9         2327.1100             mestrado    F     solteiro        gold"
      ]
     },
     "execution_count": 12,
     "metadata": {},
     "output_type": "execute_result"
    }
   ],
   "source": [
    "media_valor_gasto = pd.read_csv(\"./queries/media_valor_gasto.csv\",sep=',')\n",
    "media_valor_gasto.head(10)"
   ]
  },
  {
   "cell_type": "markdown",
   "id": "daefbd84",
   "metadata": {},
   "source": [
    "### 2.3.5 Valores gastos nos últimos 12 meses por gênero"
   ]
  },
  {
   "cell_type": "markdown",
   "id": "009c9d00",
   "metadata": {},
   "source": [
    "**Query 13** - Valores gastos nos últimos 12 meses por gênero\n",
    "```sql\n",
    "select max(valor_transacoes_12m) as maximo_valor_gasto,\n",
    "\tavg(valor_transacoes_12m) as media_valor_gasto,\n",
    "\tmin(valor_transacoes_12m) as minimo_valor_gasto,\n",
    "\tsexo\n",
    "from credito\n",
    "group by sexo;\n",
    "```"
   ]
  },
  {
   "cell_type": "code",
   "execution_count": 13,
   "id": "90b7d083",
   "metadata": {},
   "outputs": [
    {
     "data": {
      "text/html": [
       "<div>\n",
       "<style scoped>\n",
       "    .dataframe tbody tr th:only-of-type {\n",
       "        vertical-align: middle;\n",
       "    }\n",
       "\n",
       "    .dataframe tbody tr th {\n",
       "        vertical-align: top;\n",
       "    }\n",
       "\n",
       "    .dataframe thead th {\n",
       "        text-align: right;\n",
       "    }\n",
       "</style>\n",
       "<table border=\"1\" class=\"dataframe\">\n",
       "  <thead>\n",
       "    <tr style=\"text-align: right;\">\n",
       "      <th></th>\n",
       "      <th>maximo_valor_gasto</th>\n",
       "      <th>media_valor_gasto</th>\n",
       "      <th>minimo_valor_gasto</th>\n",
       "      <th>sexo</th>\n",
       "    </tr>\n",
       "  </thead>\n",
       "  <tbody>\n",
       "    <tr>\n",
       "      <th>0</th>\n",
       "      <td>4776.58</td>\n",
       "      <td>1839.6226</td>\n",
       "      <td>510.16</td>\n",
       "      <td>F</td>\n",
       "    </tr>\n",
       "    <tr>\n",
       "      <th>1</th>\n",
       "      <td>4686.93</td>\n",
       "      <td>1807.9680</td>\n",
       "      <td>530.36</td>\n",
       "      <td>M</td>\n",
       "    </tr>\n",
       "  </tbody>\n",
       "</table>\n",
       "</div>"
      ],
      "text/plain": [
       "   maximo_valor_gasto  media_valor_gasto  minimo_valor_gasto sexo\n",
       "0             4776.58          1839.6226              510.16    F\n",
       "1             4686.93          1807.9680              530.36    M"
      ]
     },
     "execution_count": 13,
     "metadata": {},
     "output_type": "execute_result"
    }
   ],
   "source": [
    "gasto_por_genero = pd.read_csv(\"./queries/gasto_por_genero.csv\",sep=',')\n",
    "gasto_por_genero.head(10)"
   ]
  },
  {
   "cell_type": "markdown",
   "id": "9a8deaaf",
   "metadata": {},
   "source": [
    "# 3. Conclusões do material"
   ]
  },
  {
   "cell_type": "markdown",
   "id": "73be6996",
   "metadata": {},
   "source": [
    "**Insights extraídos da análise**\n",
    "\n",
    "<ol>\n",
    "    <li>A maior parte dos clientes possui renda até 40K;</li>\n",
    "    <li>A maior parte dos clientes é homem;</li>\n",
    "    <li>96% dos clientes possuem cartão \"blue\";</li>\n",
    "    <li>A média de idade dos clientes é de 46 anos;</li>\n",
    "    <li>O valor gasto por todos os clientes é de 1820;</li>\n",
    "    <li>Escolaridade mais elevadas e tipos de cartões mais exclusivos não parecem influenciar totalmente no máximo de limite que um cliente pode ter disponível;</li>\n",
    "    <li>Os dados indicam que mulheres, em média, gastam mais que homens;</li>\n",
    "    <li>Os dados indicam que níveis de escolaridade mais elevados somam gastos mais altos.</li>\n",
    "</ol>\n"
   ]
  },
  {
   "cell_type": "code",
   "execution_count": null,
   "id": "85c95ed1",
   "metadata": {},
   "outputs": [],
   "source": []
  }
 ],
 "metadata": {
  "kernelspec": {
   "display_name": "Python 3 (ipykernel)",
   "language": "python",
   "name": "python3"
  },
  "language_info": {
   "codemirror_mode": {
    "name": "ipython",
    "version": 3
   },
   "file_extension": ".py",
   "mimetype": "text/x-python",
   "name": "python",
   "nbconvert_exporter": "python",
   "pygments_lexer": "ipython3",
   "version": "3.11.4"
  }
 },
 "nbformat": 4,
 "nbformat_minor": 5
}
